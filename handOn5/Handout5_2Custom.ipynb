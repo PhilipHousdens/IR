{
 "cells": [
  {
   "cell_type": "code",
   "execution_count": null,
   "metadata": {},
   "outputs": [
    {
     "name": "stderr",
     "output_type": "stream",
     "text": [
      "WARNING (pytensor.tensor.blas): Using NumPy C-API based implementation for BLAS functions.\n"
     ]
    }
   ],
   "source": [
    "import pymc as pm\n",
    "import numpy as np\n",
    "import pandas as pd\n",
    "from string import ascii_lowercase\n",
    "from pathlib import Path\n",
    "from urllib.parse import urlparse \n",
    "from concurrent.futures import ThreadPoolExecutor \n",
    "import multiprocessing \n",
    "from queue import Queue, Empty \n",
    "import pickle\n",
    "import requests\n",
    "from elasticsearch import Elasticsearch\n",
    "from pathlib import Path\n",
    "import os\n",
    "import json\n",
    "import pickle"
   ]
  },
  {
   "cell_type": "code",
   "execution_count": 1,
   "metadata": {},
   "outputs": [],
   "source": [
    "def run_indexer(self):\n",
    "    self.es_client.options(ignore_status=[400, 404]).indices.delete(index='custom')\n",
    "    index_body = {\n",
    "        \"settings\": {\n",
    "            \"similarity\": {\n",
    "                \"custom_similarity\": {\n",
    "                    \"type\": \"scripted\",\n",
    "                    \"script\": {\n",
    "                        \"source\": \"\"\"\n",
    "                            double idf = Math.log((field.docCount + 1.0) / (term.docFreq + 1.0)) + 1.0;\n",
    "                            return idf;\n",
    "                        \"\"\"\n",
    "                    }\n",
    "                }\n",
    "            }\n",
    "        },\n",
    "        \"mappings\": {\n",
    "            \"properties\": {\n",
    "                \"text\": {\n",
    "                    \"type\": \"text\",\n",
    "                    \"similarity\": \"custom_similarity\"\n",
    "                }\n",
    "            }\n",
    "        }\n",
    "    }\n",
    "    self.es_client.options(ignore_status=400).indices.create(index='custom', body=index_body)\n"
   ]
  },
  {
   "cell_type": "code",
   "execution_count": 2,
   "metadata": {},
   "outputs": [],
   "source": [
    "from flask import Flask, request\n",
    "import time"
   ]
  },
  {
   "cell_type": "code",
   "execution_count": 3,
   "metadata": {},
   "outputs": [
    {
     "name": "stdout",
     "output_type": "stream",
     "text": [
      " * Serving Flask app '__main__'\n",
      " * Debug mode: off\n"
     ]
    },
    {
     "name": "stderr",
     "output_type": "stream",
     "text": [
      "WARNING: This is a development server. Do not use it in a production deployment. Use a production WSGI server instead.\n",
      " * Running on http://127.0.0.1:5000\n",
      "Press CTRL+C to quit\n",
      "127.0.0.1 - - [27/Jan/2025 16:39:11] \"GET / HTTP/1.1\" 404 -\n",
      "127.0.0.1 - - [27/Jan/2025 16:39:30] \"GET /search_custom?query=school HTTP/1.1\" 200 -\n",
      "127.0.0.1 - - [27/Jan/2025 16:44:03] \"GET / HTTP/1.1\" 404 -\n",
      "127.0.0.1 - - [27/Jan/2025 16:44:12] \"GET /search_manual?query=school HTTP/1.1\" 404 -\n",
      "127.0.0.1 - - [27/Jan/2025 16:44:18] \"GET /search_manual?query=school HTTP/1.1\" 404 -\n",
      "127.0.0.1 - - [27/Jan/2025 16:46:07] \"GET /search_manual?query=school HTTP/1.1\" 404 -\n",
      "127.0.0.1 - - [27/Jan/2025 16:46:07] \"GET /search_manual?query=school HTTP/1.1\" 404 -\n",
      "127.0.0.1 - - [27/Jan/2025 16:46:08] \"GET /search_manual?query=school HTTP/1.1\" 404 -\n",
      "127.0.0.1 - - [27/Jan/2025 16:46:08] \"GET /search_manual?query=school HTTP/1.1\" 404 -\n",
      "127.0.0.1 - - [27/Jan/2025 16:47:01] \"GET /search_manual?query=school HTTP/1.1\" 404 -\n",
      "127.0.0.1 - - [27/Jan/2025 16:47:01] \"GET /search_manual?query=school HTTP/1.1\" 404 -\n",
      "127.0.0.1 - - [27/Jan/2025 16:47:01] \"GET /search_manual?query=school HTTP/1.1\" 404 -\n",
      "127.0.0.1 - - [27/Jan/2025 16:47:02] \"GET /search_manual?query=school HTTP/1.1\" 404 -\n",
      "127.0.0.1 - - [27/Jan/2025 16:47:04] \"GET / HTTP/1.1\" 404 -\n",
      "127.0.0.1 - - [27/Jan/2025 16:47:13] \"GET /search_manual?query=school HTTP/1.1\" 404 -\n"
     ]
    }
   ],
   "source": [
    "from flask import Flask, request\n",
    "from elasticsearch import Elasticsearch\n",
    "import pandas as pd\n",
    "import time\n",
    "\n",
    "# Initialize Flask app\n",
    "app = Flask(__name__)\n",
    "\n",
    "# Connect to Elasticsearch\n",
    "app.es_client = Elasticsearch(\n",
    "    \"https://localhost:9200\",\n",
    "    basic_auth=(\"elastic\", \"D*d4-0+Kl+lxfbbzh5ut\"),  # Replace with your password\n",
    "    ca_certs=\"~/http_ca.crt\"  # Adjust the path to your certificate if needed\n",
    ")\n",
    "\n",
    "# Define the search endpoint\n",
    "@app.route('/search_custom', methods=['GET'])\n",
    "def search_es():\n",
    "    # Record start time for query execution\n",
    "    start = time.time()\n",
    "    response_object = {'status': 'success'}\n",
    "    \n",
    "    # Get the search query from request arguments\n",
    "    argList = request.args.to_dict(flat=False)\n",
    "    query_term = argList['query'][0]\n",
    "    \n",
    "    # Perform the search on Elasticsearch\n",
    "    results = app.es_client.search(\n",
    "        index='simple',\n",
    "        source_excludes=['url_lists'],  # Exclude unnecessary fields\n",
    "        size=100,  # Limit the results to 100\n",
    "        query={\"match\": {\"text\": query_term}}  # Match query on the 'text' field\n",
    "    )\n",
    "    \n",
    "    # Record end time for query execution\n",
    "    end = time.time()\n",
    "    total_hit = results['hits']['total']['value']\n",
    "    \n",
    "    # Prepare results in a DataFrame\n",
    "    results_df = pd.DataFrame(\n",
    "        [\n",
    "            [\n",
    "                hit[\"_source\"]['title'],  # Title of the document\n",
    "                hit[\"_source\"]['url'],  # URL of the document\n",
    "                hit[\"_source\"]['text'][:100],  # First 100 characters of text\n",
    "                hit[\"_score\"]  # Relevance score\n",
    "            ]\n",
    "            for hit in results['hits']['hits']\n",
    "        ],\n",
    "        columns=['title', 'url', 'text', 'score']\n",
    "    )\n",
    "    \n",
    "    # Populate the response object\n",
    "    response_object['total_hit'] = total_hit\n",
    "    response_object['results'] = results_df.to_dict('records')\n",
    "    response_object['elapse'] = end - start  # Query execution time\n",
    "    \n",
    "    return response_object\n",
    "app.run(debug=False)"
   ]
  },
  {
   "cell_type": "markdown",
   "metadata": {},
   "source": [
    "The result from simple = 0.135 score and the custom score = 0.12"
   ]
  }
 ],
 "metadata": {
  "kernelspec": {
   "display_name": "IR",
   "language": "python",
   "name": "python3"
  },
  "language_info": {
   "codemirror_mode": {
    "name": "ipython",
    "version": 3
   },
   "file_extension": ".py",
   "mimetype": "text/x-python",
   "name": "python",
   "nbconvert_exporter": "python",
   "pygments_lexer": "ipython3",
   "version": "3.12.7"
  }
 },
 "nbformat": 4,
 "nbformat_minor": 2
}
