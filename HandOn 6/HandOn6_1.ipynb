{
 "cells": [
  {
   "metadata": {},
   "cell_type": "markdown",
   "source": "### Page 27",
   "id": "b54eb47980e84b22"
  },
  {
   "metadata": {
    "ExecuteTime": {
     "end_time": "2025-02-10T10:52:21.739212Z",
     "start_time": "2025-02-10T10:52:21.735211Z"
    }
   },
   "cell_type": "code",
   "source": [
    "def average_precision(relevance_list):\n",
    "    relevant_docs = [i + 1 for i, rel in enumerate(relevance_list) if rel == 'T']\n",
    "    precisions = [(idx + 1) / rank for idx, rank in enumerate(relevant_docs)]\n",
    "    return sum(precisions) / len(relevant_docs) if relevant_docs else 0"
   ],
   "id": "a9b41b573f126a98",
   "outputs": [],
   "execution_count": 7
  },
  {
   "metadata": {
    "ExecuteTime": {
     "end_time": "2025-02-10T10:52:21.769392Z",
     "start_time": "2025-02-10T10:52:21.765393Z"
    }
   },
   "cell_type": "code",
   "source": [
    "def mean_average_precision(system_results):\n",
    "    return average_precision(system_results)"
   ],
   "id": "3e77cadda98507ec",
   "outputs": [],
   "execution_count": 8
  },
  {
   "metadata": {},
   "cell_type": "markdown",
   "source": "#### System results",
   "id": "f2304dc97d8c29dd"
  },
  {
   "metadata": {
    "ExecuteTime": {
     "end_time": "2025-02-10T10:52:21.780623Z",
     "start_time": "2025-02-10T10:52:21.777596Z"
    }
   },
   "cell_type": "code",
   "source": [
    "system_A = \"FTTTTTFFFF\"\n",
    "system_B = \"TTTFFFFFTT\""
   ],
   "id": "6712154ca6cce287",
   "outputs": [],
   "execution_count": 9
  },
  {
   "metadata": {},
   "cell_type": "markdown",
   "source": "#### Compute mAP",
   "id": "4500e091ec7a2eb3"
  },
  {
   "metadata": {
    "ExecuteTime": {
     "end_time": "2025-02-10T10:52:21.791306Z",
     "start_time": "2025-02-10T10:52:21.787517Z"
    }
   },
   "cell_type": "code",
   "source": [
    "map_A = mean_average_precision(system_A)\n",
    "map_B = mean_average_precision(system_B)"
   ],
   "id": "4ab30c7e247f0d79",
   "outputs": [],
   "execution_count": 10
  },
  {
   "metadata": {
    "ExecuteTime": {
     "end_time": "2025-02-10T10:52:21.806Z",
     "start_time": "2025-02-10T10:52:21.802631Z"
    }
   },
   "cell_type": "code",
   "source": [
    "print(f\"mAP for System A: {map_A:.4f}\")\n",
    "print(f\"mAP for System B: {map_B:.4f}\")"
   ],
   "id": "830cb63c59142eb4",
   "outputs": [
    {
     "name": "stdout",
     "output_type": "stream",
     "text": [
      "mAP for System A: 0.7100\n",
      "mAP for System B: 0.7889\n"
     ]
    }
   ],
   "execution_count": 11
  },
  {
   "metadata": {},
   "cell_type": "markdown",
   "source": "#### Determine better system",
   "id": "8f7eb385ab88acb7"
  },
  {
   "metadata": {
    "ExecuteTime": {
     "end_time": "2025-02-10T10:52:21.825614Z",
     "start_time": "2025-02-10T10:52:21.822570Z"
    }
   },
   "cell_type": "code",
   "source": [
    "if map_A > map_B:\n",
    "    print(\"System A performs better.\")\n",
    "elif map_A < map_B:\n",
    "    print(\"System B performs better.\")\n",
    "else:\n",
    "    print(\"Both systems perform equally.\")"
   ],
   "id": "1156bc4ddcde9d70",
   "outputs": [
    {
     "name": "stdout",
     "output_type": "stream",
     "text": [
      "System B performs better.\n"
     ]
    }
   ],
   "execution_count": 12
  },
  {
   "metadata": {},
   "cell_type": "markdown",
   "source": "### Page 38",
   "id": "be1925a31c6c38dd"
  },
  {
   "metadata": {
    "ExecuteTime": {
     "end_time": "2025-02-10T10:52:22.036781Z",
     "start_time": "2025-02-10T10:52:21.924540Z"
    }
   },
   "cell_type": "code",
   "source": [
    "import numpy as np\n",
    "\n",
    "def dcg_at_k(relevance, k):\n",
    "    relevance = np.array(relevance[:k])\n",
    "    discounts = np.log2(np.arange(2, k + 2))\n",
    "    return np.sum(relevance / discounts)"
   ],
   "id": "eee18766111663d5",
   "outputs": [],
   "execution_count": 13
  },
  {
   "metadata": {
    "ExecuteTime": {
     "end_time": "2025-02-10T10:52:22.048757Z",
     "start_time": "2025-02-10T10:52:22.044919Z"
    }
   },
   "cell_type": "code",
   "source": [
    "def ndcg_at_k(system_ranking, ideal_ranking, k):\n",
    "    dcg = dcg_at_k(system_ranking, k)\n",
    "    idcg = dcg_at_k(ideal_ranking, k)\n",
    "    return dcg / idcg if idcg > 0 else 0"
   ],
   "id": "c5c993a92fa63176",
   "outputs": [],
   "execution_count": 14
  },
  {
   "metadata": {},
   "cell_type": "markdown",
   "source": "#### Define relevance scores",
   "id": "db492452cca8aff0"
  },
  {
   "metadata": {
    "ExecuteTime": {
     "end_time": "2025-02-10T10:52:22.068481Z",
     "start_time": "2025-02-10T10:52:22.065302Z"
    }
   },
   "cell_type": "code",
   "source": "relevance_scores = {\"Critical\": 3, \"Major\": 2, \"Minor\": 1}",
   "id": "d8ce621e068f916e",
   "outputs": [],
   "execution_count": 15
  },
  {
   "metadata": {},
   "cell_type": "markdown",
   "source": "#### System rankings",
   "id": "d3685cbe2ee613b9"
  },
  {
   "metadata": {
    "ExecuteTime": {
     "end_time": "2025-02-10T10:52:22.085220Z",
     "start_time": "2025-02-10T10:52:22.081854Z"
    }
   },
   "cell_type": "code",
   "source": [
    "system_A = [\"Minor\", \"Critical\", \"Critical\", \"Critical\", \"Critical\", \"Minor\", \"Critical\", \"Minor\", \"Minor\", \"Minor\"]\n",
    "system_B = [\"Critical\", \"Critical\", \"Critical\", \"Minor\", \"Minor\", \"Minor\", \"Minor\", \"Critical\", \"Critical\", \"Minor\"]"
   ],
   "id": "45f2c1210d9b42ae",
   "outputs": [],
   "execution_count": 16
  },
  {
   "metadata": {},
   "cell_type": "markdown",
   "source": "#### Convert rankings to numerical relevance",
   "id": "5c19b600b5e3a"
  },
  {
   "metadata": {
    "ExecuteTime": {
     "end_time": "2025-02-10T10:52:22.094806Z",
     "start_time": "2025-02-10T10:52:22.091739Z"
    }
   },
   "cell_type": "code",
   "source": [
    "system_A_relevance = [relevance_scores[bug] for bug in system_A]\n",
    "system_B_relevance = [relevance_scores[bug] for bug in system_B]"
   ],
   "id": "76d6366ed70be703",
   "outputs": [],
   "execution_count": 17
  },
  {
   "metadata": {},
   "cell_type": "markdown",
   "source": "#### Ideal ranking (all Critical bugs first)",
   "id": "b14b2b3cda54e454"
  },
  {
   "metadata": {
    "ExecuteTime": {
     "end_time": "2025-02-10T10:52:22.105890Z",
     "start_time": "2025-02-10T10:52:22.102808Z"
    }
   },
   "cell_type": "code",
   "source": "ideal_ranking = sorted(system_A_relevance + system_B_relevance, reverse=True)",
   "id": "77d7cb06862aba3f",
   "outputs": [],
   "execution_count": 18
  },
  {
   "metadata": {},
   "cell_type": "markdown",
   "source": "#### Compute NDCG@5",
   "id": "6fe07ac6aa67027c"
  },
  {
   "metadata": {
    "ExecuteTime": {
     "end_time": "2025-02-10T10:52:22.117612Z",
     "start_time": "2025-02-10T10:52:22.113085Z"
    }
   },
   "cell_type": "code",
   "source": [
    "ndcg_A = ndcg_at_k(system_A_relevance, ideal_ranking, 5)\n",
    "ndcg_B = ndcg_at_k(system_B_relevance, ideal_ranking, 5)"
   ],
   "id": "d62772d1b95d57a8",
   "outputs": [],
   "execution_count": 19
  },
  {
   "metadata": {
    "ExecuteTime": {
     "end_time": "2025-02-10T10:52:22.133279Z",
     "start_time": "2025-02-10T10:52:22.129070Z"
    }
   },
   "cell_type": "code",
   "source": [
    "print(f\"NDCG@5 for System A: {ndcg_A:.4f}\")\n",
    "print(f\"NDCG@5 for System B: {ndcg_B:.4f}\")"
   ],
   "id": "14d92d804b5e0190",
   "outputs": [
    {
     "name": "stdout",
     "output_type": "stream",
     "text": [
      "NDCG@5 for System A: 0.7739\n",
      "NDCG@5 for System B: 0.8152\n"
     ]
    }
   ],
   "execution_count": 20
  },
  {
   "metadata": {},
   "cell_type": "markdown",
   "source": "#### Determine better system",
   "id": "12cdaa84c176b72e"
  },
  {
   "metadata": {
    "ExecuteTime": {
     "end_time": "2025-02-10T10:52:22.145162Z",
     "start_time": "2025-02-10T10:52:22.141303Z"
    }
   },
   "cell_type": "code",
   "source": [
    "if ndcg_A > ndcg_B:\n",
    "    print(\"System A performs better.\")\n",
    "elif ndcg_A < ndcg_B:\n",
    "    print(\"System B performs better.\")\n",
    "else:\n",
    "    print(\"Both systems perform equally.\")"
   ],
   "id": "cf1e7f50fb597379",
   "outputs": [
    {
     "name": "stdout",
     "output_type": "stream",
     "text": [
      "System B performs better.\n"
     ]
    }
   ],
   "execution_count": 21
  }
 ],
 "metadata": {
  "kernelspec": {
   "display_name": "Python 3",
   "language": "python",
   "name": "python3"
  },
  "language_info": {
   "codemirror_mode": {
    "name": "ipython",
    "version": 2
   },
   "file_extension": ".py",
   "mimetype": "text/x-python",
   "name": "python",
   "nbconvert_exporter": "python",
   "pygments_lexer": "ipython2",
   "version": "2.7.6"
  }
 },
 "nbformat": 4,
 "nbformat_minor": 5
}
